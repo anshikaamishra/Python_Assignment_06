{
 "cells": [
  {
   "cell_type": "markdown",
   "id": "d7452c39-0dfd-4d0a-b774-5b26fef17b7c",
   "metadata": {},
   "source": [
    "## Python Assignment 06"
   ]
  },
  {
   "cell_type": "markdown",
   "id": "9fd48b3f-54e7-4724-8d3a-d9c6ba3a5598",
   "metadata": {},
   "source": [
    "**Q1. Create a function which will take a list as an argument and return the product of all the numbers\n",
    "after creating a flat list.**\n",
    "**Use the below-given list as an argument for your function.**\n",
    "\n",
    "**list1 = [1,2,3,4, [44,55,66, True], False, (34,56,78,89,34), {1,2,3,3,2,1}, {1:34, \"key2\": [55, 67, 78, 89], 4: (45,\n",
    "22, 61, 34)}, [56, 'data science'], 'Machine Learning']**"
   ]
  },
  {
   "cell_type": "code",
   "execution_count": 1,
   "id": "20649c3b-8202-4f53-8a12-8b973b89b91d",
   "metadata": {},
   "outputs": [],
   "source": [
    "# function which will take a list as an argument and return the product of all the numbers\n",
    "\n",
    "def product_num(lst) :\n",
    "    flat_list = []\n",
    "    \n",
    "    # checking for int and float type in list\n",
    "    for item in lst:\n",
    "        if type(item) == list :\n",
    "            for i in item :\n",
    "                if type(i) == int or type(i) == float :\n",
    "                    flat_list.append(i)\n",
    "                    \n",
    "        # checking for int and float type in tuple            \n",
    "        elif type(item) == tuple :\n",
    "            for i in item :\n",
    "                if type(i) == int or type(i) == float : \n",
    "                    flat_list.append(i)\n",
    "                    \n",
    "        elif type(item) == set :\n",
    "            for i in item :\n",
    "                flat_list.append(i)\n",
    "                \n",
    "        # checking if item type is dictionary\n",
    "        elif type(item) == dict :\n",
    "            for key, value in item.items() :\n",
    "                # checking for int and float type in key\n",
    "                if type(key) == int or type(key) == float :\n",
    "                    flat_list.append(key)\n",
    "                    \n",
    "                # checking for tuple data type in key    \n",
    "                if type(key) == tuple :\n",
    "                    for i in key :\n",
    "                        if type(i) == int or type(i) == float : \n",
    "                            flat_list.append(i)\n",
    "                            \n",
    "                # checking for int and float type in value\n",
    "                if type(value) == int or type(value) == float :\n",
    "                    flat_list.append(value)\n",
    "                    \n",
    "                # checking for tuple or list data type in value\n",
    "                if type(value) == tuple or type(value) == list :\n",
    "                    for i in value :\n",
    "                        if type(i) == int or type(i) == float : \n",
    "                            flat_list.append(i)\n",
    "        elif type(item) == int or type(item) == float :\n",
    "            flat_list.append(item)\n",
    "            \n",
    "    # for loop to return product of all the numbers added in flat_list     \n",
    "    product = 1\n",
    "    for i in flat_list :\n",
    "        product = product * int(i)\n",
    "    return product"
   ]
  },
  {
   "cell_type": "code",
   "execution_count": 2,
   "id": "43085aad-4265-427f-9a83-36527f351ca8",
   "metadata": {},
   "outputs": [
    {
     "name": "stdout",
     "output_type": "stream",
     "text": [
      "The product of all the numbers is: 4134711838987085478833841242112000\n"
     ]
    }
   ],
   "source": [
    "list1 = [1,2,3,4, [44,55,66, True], False, (34,56,78,89,34), {1,2,3,3,2,1}, {1:34, \"key2\": [55, 67, 78, 89], 4: (45, 22, 61, 34)}, [56, 'data science'], 'Machine Learning']\n",
    "\n",
    "result = product_num(list1)\n",
    "print(f'The product of all the numbers is: {result}')\n"
   ]
  },
  {
   "cell_type": "markdown",
   "id": "5244f298-0988-4fe9-911d-4c9c43312356",
   "metadata": {},
   "source": [
    "**Q2. Write a python program for encrypting a message sent to you by your friend. The logic of encryption\n",
    "should be such that, for a the output should be z. For b, the output should be y. For c, the output should\n",
    "be x respectively. Also, the whitespace should be replaced with a dollar sign. Keep the punctuation\n",
    "marks unchanged.**"
   ]
  },
  {
   "cell_type": "code",
   "execution_count": 4,
   "id": "e9544134-67d5-4c29-a1ec-9bce3adf03f8",
   "metadata": {},
   "outputs": [],
   "source": [
    "# function for encrypting a message \n",
    "def encryption(string) :\n",
    "    string = string.replace(\"a\", \"z\").replace(\"b\", \"y\").replace(\"c\", \"x\")\n",
    "    \n",
    "    # Splitting the string\n",
    "    st = string.split()\n",
    "    \n",
    "    # return a string by replacing whitespace with $\n",
    "    return \"$\".join(st)"
   ]
  },
  {
   "cell_type": "code",
   "execution_count": 5,
   "id": "49590b6f-b661-4581-aaf4-4d1fc940b0b9",
   "metadata": {},
   "outputs": [
    {
     "data": {
      "text/plain": [
       "'I$wznt$to$yexome$z$Dztz$Sxientist'"
      ]
     },
     "execution_count": 5,
     "metadata": {},
     "output_type": "execute_result"
    }
   ],
   "source": [
    "encryption(\"I want to become a Data Scientist\")"
   ]
  },
  {
   "cell_type": "code",
   "execution_count": null,
   "id": "5629dddd-dcdd-46bd-8418-c038cf64e76c",
   "metadata": {},
   "outputs": [],
   "source": []
  }
 ],
 "metadata": {
  "kernelspec": {
   "display_name": "Python 3 (ipykernel)",
   "language": "python",
   "name": "python3"
  },
  "language_info": {
   "codemirror_mode": {
    "name": "ipython",
    "version": 3
   },
   "file_extension": ".py",
   "mimetype": "text/x-python",
   "name": "python",
   "nbconvert_exporter": "python",
   "pygments_lexer": "ipython3",
   "version": "3.10.8"
  }
 },
 "nbformat": 4,
 "nbformat_minor": 5
}
